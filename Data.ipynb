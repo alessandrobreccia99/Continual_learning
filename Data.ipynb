{
 "cells": [
  {
   "cell_type": "code",
   "execution_count": 1,
   "metadata": {
    "metadata": {}
   },
   "outputs": [],
   "source": [
    "import torch\n",
    "import torchvision\n",
    "import torch.nn as nn\n",
    "import torch.nn.functional as F\n",
    "import torch.optim as optim\n",
    "from pyhessian import hessian"
   ]
  },
  {
   "cell_type": "code",
   "execution_count": 2,
   "metadata": {
    "metadata": {}
   },
   "outputs": [],
   "source": [
    "import pandas as pd\n",
    "import matplotlib.pyplot as plt\n",
    "import numpy as np"
   ]
  },
  {
   "cell_type": "code",
   "execution_count": 3,
   "metadata": {
    "metadata": {}
   },
   "outputs": [],
   "source": [
    "device = 'mps'"
   ]
  },
  {
   "cell_type": "code",
   "execution_count": 4,
   "metadata": {
    "metadata": {}
   },
   "outputs": [],
   "source": [
    "data = pd.read_csv('~/data/MNIST/mnist_train.csv')\n",
    "test = pd.read_csv('~/data/MNIST/mnist_test.csv')\n",
    "\n",
    "data = data[data['label'].isin([0, 1])]\n",
    "test = test[test['label'].isin([0, 1])]\n",
    "\n",
    "X = torch.tensor(data.drop('label', axis = 1).to_numpy(), device=device)/255\n",
    "X_test = torch.tensor(test.drop('label', axis = 1).to_numpy(), device=device)/255\n",
    "\n",
    "Y_temp = torch.tensor(data['label'].to_numpy(), device=device)\n",
    "Y = torch.eye(1, device=device)[Y_temp]\n",
    "\n",
    "Y_temp = torch.tensor(test['label'].to_numpy(), device=device)\n",
    "Y_test = torch.eye(1, device=device)[Y_temp]"
   ]
  },
  {
   "cell_type": "code",
   "execution_count": 5,
   "metadata": {
    "metadata": {}
   },
   "outputs": [
    {
     "data": {
      "text/plain": [
       "<torch._C.Generator at 0x176d23ad0>"
      ]
     },
     "execution_count": 5,
     "metadata": {},
     "output_type": "execute_result"
    }
   ],
   "source": [
    "gen = torch.Generator(device=device)\n",
    "gen.manual_seed(123)"
   ]
  },
  {
   "cell_type": "code",
   "execution_count": 6,
   "metadata": {
    "metadata": {}
   },
   "outputs": [
    {
     "data": {
      "text/plain": [
       "<matplotlib.image.AxesImage at 0x16ce44cd0>"
      ]
     },
     "execution_count": 6,
     "metadata": {},
     "output_type": "execute_result"
    },
    {
     "data": {
      "image/png": "[encoded data removed]",
      "text/plain": [
       "<Figure size 640x480 with 1 Axes>"
      ]
     },
     "metadata": {},
     "output_type": "display_data"
    }
   ],
   "source": [
    "plt.imshow(X[7].view(28,28).cpu(), cmap='gray')"
   ]
  },
  {
   "cell_type": "code",
   "execution_count": 19,
   "metadata": {
    "metadata": {}
   },
   "outputs": [],
   "source": [
    "def permut_row(x, perm):\n",
    "    return x[perm]"
   ]
  },
  {
   "cell_type": "code",
   "execution_count": 20,
   "metadata": {
    "metadata": {}
   },
   "outputs": [],
   "source": [
    "n_tasks = 3\n",
    "tasks = []\n",
    "tasks_test = []\n",
    "\n",
    "for _ in range(n_tasks):\n",
    "        perm = np.random.permutation(X.shape[1])\n",
    "        tasks.append( torch.tensor(np.apply_along_axis(permut_row, axis = 1, arr=X.cpu(), perm=perm)).to(device) )\n",
    "        tasks_test.append(torch.tensor(np.apply_along_axis(permut_row, axis = 1, arr=X_test.cpu(), perm=perm)).to(device))"
   ]
  },
  {
   "cell_type": "code",
   "execution_count": 23,
   "metadata": {
    "metadata": {}
   },
   "outputs": [
    {
     "data": {
      "text/plain": [
       "<matplotlib.image.AxesImage at 0x326350790>"
      ]
     },
     "execution_count": 23,
     "metadata": {},
     "output_type": "execute_result"
    },
    {
     "data": {
      "image/png": "[encoded data removed]",
      "text/plain": [
       "<Figure size 640x480 with 1 Axes>"
      ]
     },
     "metadata": {},
     "output_type": "display_data"
    }
   ],
   "source": [
    "plt.imshow(tasks[1][4].cpu().view(28,28), cmap='gray')"
   ]
  },
  {
   "cell_type": "code",
   "execution_count": null,
   "metadata": {
    "metadata": {}
   },
   "outputs": [],
   "source": [
    "from torchsummary import summary\n",
    "\n",
    "class MLP(nn.Module):\n",
    "    \"\"\"Standard MLP\"\"\"\n",
    "    def __init__(self, w, L):\n",
    "        super(MLP, self).__init__()\n",
    "        self.w = w\n",
    "        self.fc1 = nn.Linear(784, self.w, bias=False)\n",
    "        self.layers = nn.ModuleList(nn.Linear(self.w,self.w, bias=False) for _ in range(L))\n",
    "        self.fc2 = nn.Linear(self.w, 1, bias=False)\n",
    "        self.relu = nn.ReLU()\n",
    "        self.L = L\n",
    "\n",
    "    def forward(self, x):\n",
    "        x = self.fc1(x)\n",
    "        for l in self.layers:\n",
    "            x = l(x)\n",
    "        x = self.fc2(x)\n",
    "        #x = x/np.sqrt(self.w*784)\n",
    "\n",
    "        return x\n",
    "    \n",
    "N = 128\n",
    "\n",
    "mlp = MLP(N, 4)\n",
    "summary(mlp, (1,784))\n",
    "mlp = mlp.to(device)"
   ]
  },
  {
   "cell_type": "code",
   "execution_count": null,
   "metadata": {
    "metadata": {}
   },
   "outputs": [],
   "source": [
    "optimizer = torch.optim.SGD(mlp.parameters(), lr=2/256)"
   ]
  },
  {
   "cell_type": "code",
   "execution_count": null,
   "metadata": {
    "metadata": {}
   },
   "outputs": [],
   "source": [
    "def top_eigen(model, loss, X, Y, prt=False):\n",
    "\n",
    "    hess_comp = hessian(model, loss, (X,Y) )\n",
    "    top_eigenvalues, top_eigenvector = hess_comp.eigenvalues()\n",
    "        \n",
    "    return top_eigenvalues[-1] , top_eigenvector"
   ]
  },
  {
   "cell_type": "code",
   "execution_count": null,
   "metadata": {
    "metadata": {}
   },
   "outputs": [],
   "source": [
    "MSE = nn.MSELoss()\n",
    "\n",
    "s, _ = top_eigen(mlp, MSE , X, Y)\n",
    "print(s)"
   ]
  },
  {
   "cell_type": "code",
   "execution_count": null,
   "metadata": {
    "metadata": {}
   },
   "outputs": [],
   "source": [
    "def GSalign(model, eigen):\n",
    "   z = 0\n",
    "   for g,p in zip(model.parameters(), eigen[0]):\n",
    "        if g.requires_grad:\n",
    "          gd = g.grad\n",
    "          z += torch.sum(gd*p)/(torch.sqrt(torch.sum(gd*gd))*torch.sqrt(torch.sum(p*p))*len(eigen[0]))\n",
    "\n",
    "   return z.item()\n",
    "\n",
    "def little_ev(model):\n",
    "   \n",
    "   E = dict(model.named_parameters())['fc1.weight']\n",
    "   V = dict(model.named_parameters())['fc2.weight']\n",
    "\n",
    "   e = (E.T @ E)/(E.shape[0]*E.shape[1])\n",
    "   v = torch.sum((V @ V.T)/(E.shape[0]*E.shape[1]))\n",
    "\n",
    "   return e, v\n"
   ]
  },
  {
   "cell_type": "code",
   "execution_count": null,
   "metadata": {
    "metadata": {}
   },
   "outputs": [],
   "source": [
    "loss_hist = []\n",
    "lam = []\n",
    "all = []\n",
    "batch = len(X)\n",
    "\n",
    "for epoch in range(50):\n",
    "\n",
    "        running_loss = 0.0\n",
    "        for i in range(len(X)//batch):\n",
    "\n",
    "            # Batch of training \n",
    "            ix = torch.randint(0, len(X), (batch,), generator=gen, device=device)\n",
    "\n",
    "            ixc = torch.randint(0, len(X), (2048,), generator=gen, device=device)\n",
    "            sharp, eigen = top_eigen(mlp, MSE, X[ixc], Y[ixc])\n",
    "\n",
    "            optimizer.zero_grad()\n",
    "\n",
    "            out = mlp(X[ix])\n",
    "            loss = MSE(out, Y[ix])\n",
    "            loss.backward()\n",
    "            running_loss += loss.item()\n",
    "\n",
    "            all.append(GSalign(mlp,eigen))\n",
    "\n",
    "            optimizer.step()\n",
    "\n",
    "            lam.append(sharp)\n",
    "            loss_hist.append(loss.item())\n",
    "\n",
    "            print(f'(epoch: {epoch}), sample: {batch*(i+1)}, ---> train loss = {loss.item():.4f} -----> sharpness = {sharp:.3f}')\n",
    "\n",
    "            if epoch == 349:\n",
    "                  sharp, eigen = top_eigen(mlp, MSE, X[ixc], Y[ixc])\n",
    "                  task1_eigen = eigen\n",
    "                  \n",
    "\n",
    "print('Finished Training')\n",
    "\n",
    "acc = []\n",
    "acc.append( torch.sum(torch.argmax(mlp(X_test), dim=1) == torch.argmax(Y_test, dim=1))/len(Y_test) )"
   ]
  },
  {
   "cell_type": "code",
   "execution_count": null,
   "metadata": {},
   "outputs": [],
   "source": [
    "fig, ax = plt.subplots(3,1, figsize=(15,8))\n",
    "\n",
    "ax[0].plot(lam)\n",
    "ax[0].set_xlabel('epochs')\n",
    "ax[0].set_ylabel('Sharpness')\n",
    "\n",
    "ax[1].plot(loss_hist)\n",
    "ax[1].set_xlabel('epochs')\n",
    "ax[1].set_ylabel('Loss')\n",
    "\n",
    "ax[2].plot(np.arccos(all)*180/np.pi, linestyle=':', marker='.')\n",
    "ax[2].set_xlabel('epochs')\n",
    "ax[2].set_ylabel('Alignment angle Grad-Sharp')\n",
    "ax[2].axhline(90, color='r', linestyle='dotted')\n",
    "plt.show()"
   ]
  },
  {
   "cell_type": "code",
   "execution_count": null,
   "metadata": {
    "metadata": {}
   },
   "outputs": [],
   "source": [
    "acc = []\n",
    "acc.append( torch.sum(torch.argmax(mlp(X_test), dim=1) == torch.argmax(Y_test, dim=1))/len(Y_test) )"
   ]
  },
  {
   "cell_type": "code",
   "execution_count": null,
   "metadata": {
    "metadata": {}
   },
   "outputs": [],
   "source": [
    "acc"
   ]
  },
  {
   "cell_type": "code",
   "execution_count": null,
   "metadata": {
    "metadata": {}
   },
   "outputs": [],
   "source": [
    "hess_comp = hessian( mlp, MSE, (X,Y) )\n",
    "top_eigenvalues, top_eigenvector = hess_comp.eigenvalues()\n",
    "\n",
    "print(\"The top Hessian eigenvalue of this model is %.4f\"%top_eigenvalues[0])"
   ]
  },
  {
   "cell_type": "code",
   "execution_count": null,
   "metadata": {
    "metadata": {}
   },
   "outputs": [],
   "source": [
    "hess_comp = hessian(mlp, MSE, (X_perm,Y) )\n",
    "top_eigenvalues, top_eigenvector = hess_comp.eigenvalues()\n",
    "print(\"The top Hessian eigenvalue of this model is\", top_eigenvalues[0])"
   ]
  },
  {
   "cell_type": "code",
   "execution_count": null,
   "metadata": {
    "metadata": {}
   },
   "outputs": [],
   "source": [
    "lr = 2/256\n",
    "optimizer = torch.optim.SGD(mlp.parameters(), lr=lr)\n",
    "\n",
    "old_loss = []\n",
    "batch = 1\n",
    "forg = []\n",
    "term1 = []\n",
    "term2 = []\n",
    "delta1 = [(mlp(X)[0]-Y[0]).item()]\n",
    "delta2 = [(mlp(X_perm)[0]-Y[0]).item()]"
   ]
  },
  {
   "cell_type": "code",
   "execution_count": null,
   "metadata": {},
   "outputs": [],
   "source": [
    "def forget(model,X1,Y1,X2,Y2,gam,lr, delta1, delta2):\n",
    "\n",
    "    e, v = little_ev(model)\n",
    "\n",
    "    term1 = N*784*(( X1 @ (e @ X2.T) + (X1 @ X2.T) * v) * delta2 * lr)\n",
    "\n",
    "    term2 = (X1 @ X2.T) @ model(X2) * delta2**2 * lr**2\n",
    "\n",
    "    f = (delta1 - (term1 - term2))\n",
    "\n",
    "    return f.item(), term1.item(), term2.item()"
   ]
  },
  {
   "cell_type": "code",
   "execution_count": null,
   "metadata": {
    "metadata": {}
   },
   "outputs": [],
   "source": [
    "\n",
    "for Xt in tasks:\n",
    "        \n",
    "        for epoch in range():\n",
    "\n",
    "                running_loss = 0.0\n",
    "                for i in range(1000):\n",
    "\n",
    "                    # Batch of training \n",
    "                    ix = torch.randint(0, len(Xt), (batch,), generator=gen, device=device)\n",
    "\n",
    "                    #ixc = torch.randint(0, len(X), (1024,), generator=gen, device=device)\n",
    "                    #sharp, eigen = top_eigen(mlp, MSE, X[ixc], Y[ixc])\n",
    "\n",
    "                    optimizer.zero_grad()\n",
    "        \n",
    "                    out = mlp(Xt[ix])\n",
    "                    loss = MSE(out, Y[ix])\n",
    "                    loss.backward()\n",
    "                    running_loss += loss.item()\n",
    "\n",
    "                    all.append(GSalign(mlp,eigen))\n",
    "\n",
    "                    #f, t1, t2 = forget(mlp, X[ix], Y[ix], X_perm[ix], Y[ix], 0, lr, delta1[-1], delta2[-1] )\n",
    "                    #forg.append(f)\n",
    "                    #term1.append(t1)\n",
    "                    #term2.append(t2)\n",
    "                    #eigenvalues, eigenvectors = np.linalg.eigh(e.cpu().detach().numpy())\n",
    "                    #e_hist_max.append(eigenvalues[-1])\n",
    "                    #e_hist_min.append(eigenvalues[0])\n",
    "            \n",
    "                    optimizer.step()\n",
    "\n",
    "                    #delta1.append((mlp(X[ix])-Y[ix]).item())\n",
    "                    #delta2.append((mlp(X_perm[ix])-Y[ix]).item())\n",
    "                    lam.append(sharp)\n",
    "                    loss_hist.append(loss.item())\n",
    "                    old_loss.append( MSE( mlp(X[ix]), Y[ix]).item() )\n",
    "\n",
    "                    if i%100 == 0:\n",
    "                        print(f'(epoch: {epoch}), sample: {batch*(i+1)}, ---> train loss = {loss.item():.4f} -----> sharpness = {sharp:.3f}')\n",
    "\n",
    "        print('Finished Training')\n",
    "        acc.append( torch.sum(torch.argmax(mlp(X_test), dim=1) == torch.argmax(Y_test, dim=1))/len(Y_test) )\n"
   ]
  },
  {
   "cell_type": "code",
   "execution_count": null,
   "metadata": {},
   "outputs": [],
   "source": [
    "def moving_average(a, n=100):\n",
    "    ret = np.cumsum(a, dtype=float)\n",
    "    ret[n:] = ret[n:] - ret[:-n]\n",
    "    return ret[n - 1:] / n\n",
    "\n",
    "plt.plot(moving_average(np.array(old_loss)))\n",
    "plt.show()"
   ]
  },
  {
   "cell_type": "code",
   "execution_count": null,
   "metadata": {
    "metadata": {}
   },
   "outputs": [],
   "source": [
    "fig, ax = plt.subplots(3,1, figsize=(15,8))\n",
    "\n",
    "ax[0].plot(lam)\n",
    "ax[0].set_xlabel('epochs')\n",
    "ax[0].set_ylabel('Sharpness')\n",
    "ax[0].axvline(50, color='r', linestyle='dotted')\n",
    "ax[0].axhline(4, color='r', linestyle='dotted')\n",
    "\n",
    "\n",
    "ax[1].plot(loss_hist)\n",
    "ax[1].plot(np.arange(50,50+1000),old_loss, color='red')\n",
    "ax[1].plot(np.arange(50,50+1000),forg, color='orange')\n",
    "ax[1].set_xlabel('epochs')\n",
    "ax[1].set_ylabel('Loss')\n",
    "ax[1].axvline(50, color='r', linestyle='dotted')\n",
    "\n",
    "ax[2].plot(np.arccos(all)*180/np.pi, linestyle=':', marker='.')\n",
    "ax[2].set_xlabel('epochs')\n",
    "ax[2].set_ylabel('Alignment angle Grad-Sharp')\n",
    "ax[2].axvline(50, color='r', linestyle='dotted')\n",
    "ax[2].axhline(90, color='r', linestyle='dotted')\n",
    "plt.show()\n"
   ]
  },
  {
   "cell_type": "code",
   "execution_count": null,
   "metadata": {},
   "outputs": [],
   "source": [
    "plt.figure(figsize=(15,8))\n",
    "plt.plot(forg[0:15], label='forg', linestyle='dashed')\n",
    "plt.plot(delta1[1:16], label='delta1', alpha= 0.6)\n",
    "plt.plot(term1[0:15], label='term1', alpha= 0.6)\n",
    "plt.plot(term2[0:15], label='term2', alpha= 0.6)\n",
    "\n",
    "#plt.plot(term1[:120], label='term1' )\n",
    "#plt.plot(term2[:120], label='term2')\n",
    "plt.legend()\n",
    "plt.show()"
   ]
  },
  {
   "cell_type": "code",
   "execution_count": null,
   "metadata": {},
   "outputs": [],
   "source": [
    "print(delta1[:5])\n",
    "print(term1[:5])\n",
    "print(term2[:5])\n",
    "print(forg[:5])\n",
    "print(old_loss[:5])"
   ]
  },
  {
   "cell_type": "code",
   "execution_count": null,
   "metadata": {},
   "outputs": [],
   "source": [
    "plt.plot(torch.tensor(delta1).cpu())\n",
    "plt.plot(torch.tensor(delta2).cpu())\n",
    "plt.show()"
   ]
  },
  {
   "cell_type": "code",
   "execution_count": null,
   "metadata": {},
   "outputs": [],
   "source": [
    "ratio_term = torch.tensor((term1)/(np.array(term2)+1E-10))\n",
    "counts, bins = torch.histogram(ratio_term, range=(-10000,10000))\n",
    "plt.stairs(counts, bins)\n",
    "plt.show()"
   ]
  },
  {
   "cell_type": "code",
   "execution_count": null,
   "metadata": {},
   "outputs": [],
   "source": [
    "plt.figure(figsize=(10,6))\n",
    "plt.scatter(term1,term2,c = range(len(term1)), marker='+')\n",
    "clb = plt.colorbar()\n",
    "clb.ax.set_title('GD time step index')\n",
    "plt.show()"
   ]
  },
  {
   "cell_type": "code",
   "execution_count": null,
   "metadata": {},
   "outputs": [],
   "source": [
    "negative_values = [(index, value) for index, value in enumerate(term1) if value < 0]\n",
    "\n",
    "plt.figure(figsize=(10, 6))\n",
    "plt.plot(range(len(term1)), term1, label='term1')\n",
    "plt.scatter([index for index, _ in negative_values], [value for _, value in negative_values], color='red', label='Negative Terms', marker='+')\n",
    "plt.legend()\n",
    "plt.grid(True)\n",
    "plt.show()"
   ]
  },
  {
   "cell_type": "code",
   "execution_count": null,
   "metadata": {},
   "outputs": [],
   "source": [
    "negative_values = [(index, value) for index, value in enumerate(term2) if value < 0]\n",
    "\n",
    "plt.figure(figsize=(10, 6))\n",
    "plt.plot(range(len(term2)), term2, label='term2')\n",
    "plt.scatter([index for index, _ in negative_values], [value for _, value in negative_values], color='red', label='Negative Terms', marker='+')\n",
    "plt.legend()\n",
    "plt.grid(True)\n",
    "plt.show()"
   ]
  },
  {
   "cell_type": "code",
   "execution_count": null,
   "metadata": {},
   "outputs": [],
   "source": [
    "diff = np.array(term1)-np.array(term2)"
   ]
  },
  {
   "cell_type": "code",
   "execution_count": null,
   "metadata": {},
   "outputs": [],
   "source": [
    "negative_values = [(index, value) for index, value in enumerate(diff) if value < 0]\n",
    "\n",
    "plt.figure(figsize=(10, 6))\n",
    "plt.plot(range(len(diff)), diff, label='term2')\n",
    "plt.scatter([index for index, _ in negative_values], [value for _, value in negative_values], color='red', label='Negative Terms', marker='+')\n",
    "plt.legend()\n",
    "plt.grid(True)\n",
    "plt.show()"
   ]
  },
  {
   "cell_type": "code",
   "execution_count": null,
   "metadata": {},
   "outputs": [],
   "source": [
    "plt.plot(e_hist_max)\n",
    "plt.show()\n",
    "plt.plot(e_hist_min, color='red')\n",
    "plt.show()"
   ]
  },
  {
   "cell_type": "code",
   "execution_count": null,
   "metadata": {
    "metadata": {}
   },
   "outputs": [],
   "source": [
    "torch.sum(torch.argmax(mlp(X_test_perm), dim=1) == torch.argmax(Y_test, dim=1))/len(Y_test)"
   ]
  },
  {
   "cell_type": "code",
   "execution_count": null,
   "metadata": {
    "metadata": {}
   },
   "outputs": [],
   "source": [
    "acc"
   ]
  },
  {
   "cell_type": "code",
   "execution_count": null,
   "metadata": {},
   "outputs": [],
   "source": [
    "counts, bins = torch.histogram(torch.tensor(all[:350]), 50)\n",
    "counts1, bins1 = torch.histogram(torch.tensor(all[350:]), 50)"
   ]
  },
  {
   "cell_type": "code",
   "execution_count": null,
   "metadata": {},
   "outputs": [],
   "source": [
    "plt.stairs(counts, bins)\n",
    "plt.show()\n",
    "plt.stairs(counts1, bins1)\n",
    "plt.show()"
   ]
  },
  {
   "cell_type": "code",
   "execution_count": null,
   "metadata": {},
   "outputs": [],
   "source": []
  }
 ],
 "metadata": {
  "kernelspec": {
   "display_name": "Python 3",
   "language": "python",
   "name": "python3"
  },
  "language_info": {
   "codemirror_mode": {
    "name": "ipython",
    "version": 3
   },
   "file_extension": ".py",
   "mimetype": "text/x-python",
   "name": "python",
   "nbconvert_exporter": "python",
   "pygments_lexer": "ipython3",
   "version": "3.11.4"
  }
 },
 "nbformat": 4,
 "nbformat_minor": 2
}
